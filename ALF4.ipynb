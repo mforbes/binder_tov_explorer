{
 "cells": [
  {
   "cell_type": "code",
   "execution_count": 3,
   "metadata": {
    "init_cell": true
   },
   "outputs": [
    {
     "data": {
      "text/html": [
       "<style>.grade {\n",
       "   background-color: #66FFCC;\n",
       "}\n",
       "</style>"
      ],
      "text/plain": [
       "<IPython.core.display.HTML object>"
      ]
     },
     "metadata": {},
     "output_type": "display_data"
    },
    {
     "data": {
      "application/javascript": [],
      "text/plain": [
       "<IPython.core.display.Javascript object>"
      ]
     },
     "metadata": {},
     "output_type": "display_data"
    },
    {
     "data": {
      "text/html": [
       "<script id=\"MathJax-Element-48\" type=\"math/tex\">\\newcommand{\\vect}[1]{\\mathbf{#1}}\n",
       "\\newcommand{\\uvect}[1]{\\hat{#1}}\n",
       "\\newcommand{\\abs}[1]{\\lvert#1\\rvert}\n",
       "\\newcommand{\\norm}[1]{\\lVert#1\\rVert}\n",
       "\\newcommand{\\I}{\\mathrm{i}}\n",
       "\\newcommand{\\ket}[1]{\\left|#1\\right\\rangle}\n",
       "\\newcommand{\\bra}[1]{\\left\\langle#1\\right|}\n",
       "\\newcommand{\\braket}[1]{\\langle#1\\rangle}\n",
       "\\newcommand{\\Braket}[1]{\\left\\langle#1\\right\\rangle}\n",
       "\\newcommand{\\op}[1]{\\mathbf{#1}}\n",
       "\\newcommand{\\mat}[1]{\\mathbf{#1}}\n",
       "\\newcommand{\\d}{\\mathrm{d}}\n",
       "\\newcommand{\\pdiff}[3][]{\\frac{\\partial^{#1} #2}{\\partial {#3}^{#1}}}\n",
       "\\newcommand{\\diff}[3][]{\\frac{\\d^{#1} #2}{\\d {#3}^{#1}}}\n",
       "\\newcommand{\\ddiff}[3][]{\\frac{\\delta^{#1} #2}{\\delta {#3}^{#1}}}\n",
       "\\newcommand{\\floor}[1]{\\left\\lfloor#1\\right\\rfloor}\n",
       "\\newcommand{\\ceil}[1]{\\left\\lceil#1\\right\\rceil}\n",
       "\\DeclareMathOperator{\\Tr}{Tr}\n",
       "\\DeclareMathOperator{\\erf}{erf}\n",
       "\\DeclareMathOperator{\\erfi}{erfi}\n",
       "\\DeclareMathOperator{\\sech}{sech}\n",
       "\\DeclareMathOperator{\\sgn}{sgn}\n",
       "\\DeclareMathOperator{\\order}{O}\n",
       "\\DeclareMathOperator{\\diag}{diag}\n",
       "\n",
       "\\newcommand{\\mylabel}[1]{\\label{#1}\\tag{#1}}\n",
       "\\newcommand{\\degree}{\\circ}</script>"
      ],
      "text/plain": [
       "<IPython.core.display.HTML object>"
      ]
     },
     "metadata": {},
     "output_type": "display_data"
    },
    {
     "data": {
      "text/html": [],
      "text/plain": [
       "<IPython.core.display.HTML object>"
      ]
     },
     "metadata": {},
     "output_type": "display_data"
    },
    {
     "data": {
      "text/html": [
       "\n",
       "<i>\n",
       "<p>This cell contains some definitions for equations and some CSS for styling\n",
       "  the notebook. If things look a bit strange, please try the following:\n",
       "<ul>\n",
       "  <li>Choose \"Trust Notebook\" from the \"File\" menu.</li>\n",
       "  <li>Re-execute this cell.</li>\n",
       "  <li>Reload the notebook.</li>\n",
       "</ul>\n",
       "</p>\n",
       "</i>\n"
      ],
      "text/plain": [
       "<IPython.core.display.HTML object>"
      ]
     },
     "metadata": {},
     "output_type": "display_data"
    }
   ],
   "source": [
    "import mmf_setup;mmf_setup.nbinit()"
   ]
  },
  {
   "cell_type": "markdown",
   "metadata": {},
   "source": [
    "# Parameters"
   ]
  },
  {
   "cell_type": "code",
   "execution_count": 5,
   "metadata": {
    "init_cell": true
   },
   "outputs": [
    {
     "name": "stdout",
     "output_type": "stream",
     "text": [
      "sigma_delta=1.382*MeV/fm**2\n",
      "C_C=0.8957\n",
      "n_0=0.16*1./fm**3\n",
      "e_0=-16.0*MeV\n",
      "K_0=240.0*MeV\n",
      "S_2=32.0*MeV\n",
      "L_2=60.0*MeV\n",
      "K_2=30.0*MeV\n",
      "a=13.0*MeV\n",
      "alpha=0.5\n",
      "b=3.31399183*MeV\n",
      "beta=2.43134698\n",
      "mu_p0=-104.5*MeV\n",
      "u_p=3.136\n",
      "m_eff_m_p=0.8\n",
      "E_c=631.16621272*MeV\n",
      "E_max=647.1383376*MeV\n",
      "C_max=1.0\n"
     ]
    }
   ],
   "source": [
    "KEY = 'ALF4'\n",
    "import constants as u\n",
    "import tools\n",
    "data = tools.Data(KEY)\n",
    "print(data.dataset._dims['params'])"
   ]
  },
  {
   "cell_type": "markdown",
   "metadata": {},
   "source": [
    "# Mass/Radius Relationships"
   ]
  },
  {
   "cell_type": "code",
   "execution_count": 6,
   "metadata": {},
   "outputs": [
    {
     "name": "stdout",
     "output_type": "stream",
     "text": [
      "Populating the interactive namespace from numpy and matplotlib\n"
     ]
    },
    {
     "data": {
      "application/vnd.jupyter.widget-view+json": {
       "model_id": "0b228048c1724d07ba703c3863c4f729",
       "version_major": 2,
       "version_minor": 0
      },
      "text/plain": [
       "A Jupyter Widget"
      ]
     },
     "metadata": {},
     "output_type": "display_data"
    }
   ],
   "source": [
    "%pylab inline --no-import-all\n",
    "import tools\n",
    "data = tools.Data(KEY)\n",
    "data.explore_parameters();"
   ]
  },
  {
   "cell_type": "markdown",
   "metadata": {},
   "source": [
    "# Principal Component Analysis"
   ]
  },
  {
   "cell_type": "markdown",
   "metadata": {},
   "source": [
    "As described in the [`Equation of State.ipynb`](Equation of State.ipynb) notebook, our equation of state is parameterized by the following 18 parameters which have the following values chosen to roughly match the ALF4 equation of state as tabulated in [Read:2009]:"
   ]
  },
  {
   "cell_type": "markdown",
   "metadata": {},
   "source": [
    "We now present a principal component analysis.  Here one should generate a sample of binary neutron star systems characterized by their two masses $m_1$ and $m_2$ (in units of solar masses $M_\\circ$) and their distance $d$ in Mpc from the earth.  We provided below a `PopulationModel` which will generate a Gaussian population with specified mean and standard deviation for each parameter, but one can simply input any list of `(m_1, m_2, d)` tuples.\n",
    "\n",
    "From this sample, we plot the eigenvectors and eigenvalues of the combined Fisher information matrix $\\mat{F}$ that would result from LIGO observations of assuming signal-to-noise ratios compatable with the Einstein Telescope.  The matrix $\\mat{F}$ characterizes the relative errors of the various EoS parameters $p_a$ as follows:\n",
    "\n",
    "$$\n",
    "  \\sum_{ab}\\frac{\\delta p_a}{p_a} F_{ab} \\frac{\\delta p_b}{p_b}  \n",
    "  = \\sum_{abi}\\frac{\\delta p_a}{p_a} U_{ai}d_i U_{bi} \\frac{\\delta p_b}{p_b}\n",
    "  = \\sum_{i}(\\delta\\xi_i)^2 d_i \\leq 1, \\qquad\n",
    "  \\delta\\xi_i = \\sum_a \\frac{\\delta p_a}{p_a} U_{ai}, \\qquad\n",
    "  \\xi_i = \\sum_{a}U_{ai}\\ln{p_a}.\n",
    "$$\n",
    "\n",
    "These covariance ellipsoids corresponds to the 1-$\\sigma$ variation assuming that all the parameters variances are well described by Gaussian errors.  By diagonalizing $\\mat{F} = \\mat{U} \\cdot \\diag(\\mat{d})\\cdot\\mat{U}^\\dagger$ we obtain independent constraints on each of the the principal components $\\xi_i$:\n",
    "\n",
    "$$\n",
    "   \\abs{\\delta\\xi_i} \\leq \\sqrt{d_i^{-1}} = \\sigma_i.\n",
    "$$\n",
    "\n",
    "*Note: in the following, we use the notation $\\sigma_i = 1/\\sqrt{d_i}$ to represent the constraint imposed by the $i$'th most significant component.*\n",
    "\n",
    "We now plot the various eigenvalues and display the correspond constraints as a percentage error $100/\\sqrt{d_i}$:"
   ]
  },
  {
   "cell_type": "code",
   "execution_count": null,
   "metadata": {},
   "outputs": [],
   "source": [
    "np.random.seed(1)\n",
    "population_model = tools.PopulationModel(\n",
    "    m1=1.2, m2=1.5, \n",
    "    distance=40, constant_distance=True)\n",
    "pca = tools.PCA_Explorer(data)\n",
    "pca.plot_PCA(population_model.get_samples(1), significance=50)"
   ]
  },
  {
   "cell_type": "code",
   "execution_count": null,
   "metadata": {},
   "outputs": [],
   "source": [
    "np.random.seed(2)\n",
    "population_model = tools.PopulationModel(m1=1.2+0.2j, m2=1.5+0.2j, distance=100)\n",
    "display(pca.plot_PCA(population_model.get_samples(100), significance=10))"
   ]
  },
  {
   "cell_type": "markdown",
   "metadata": {},
   "source": [
    "Here we have instead assumed that we have 100 observations from a population of objects Gaussian distributions of $m_1 = 1.2(2)M_\\circ$, $m_2=1.5(2)M_\\circ$ uniformly distributed within a sphere of radius $d=100$Mpc.  We now see that a variety of parameter combinations are constrained."
   ]
  },
  {
   "cell_type": "markdown",
   "metadata": {},
   "source": [
    "# Parameter Information"
   ]
  },
  {
   "cell_type": "markdown",
   "metadata": {},
   "source": [
    "Here we test the hypothesis that each star gives essentially only one relevant principal component.  We can check this by showing the distribution of the principal component eigenvalues over the range of masses."
   ]
  },
  {
   "cell_type": "code",
   "execution_count": null,
   "metadata": {},
   "outputs": [],
   "source": [
    "d, U = pca.get_PCA(); sigmas = 1./np.ma.sqrt(d)\n",
    "\n",
    "plt.figure(figsize=(13., 5.))\n",
    "for n, gs in enumerate(GridSpec(1,2)):\n",
    "    ax = plt.subplot(gs)\n",
    "    ax.set_aspect(1)\n",
    "    plt.pcolormesh(data.M/u.M0, data.M/u.M0, 1./sigmas[..., -1-n].T)\n",
    "    cb = plt.colorbar(label=r'$\\sigma_{}$'.format(n))\n",
    "    ticks_ = np.array(cb.get_ticks())\n",
    "    cb.set_ticks(ticks_)\n",
    "    cb.set_ticklabels([\"{:.2g}%\".format(_sigma) for _sigma in 100.0/ticks_])\n",
    "    plt.xlabel('$m_1$ [M0]'); plt.ylabel('$m_2$ [M0]')\n",
    "plt.tight_layout()"
   ]
  },
  {
   "cell_type": "markdown",
   "metadata": {},
   "source": [
    "Notice that the relative constraint provided by the dominant principal component - even in the worst case - is 3 orders of magnitude larger than that of the second component.  Thus, it is a good approximation to consider only the dominant principal components.  Independent information results from averaging over different masses which have different eigenvectors for the dominant principal component."
   ]
  },
  {
   "cell_type": "markdown",
   "metadata": {},
   "source": [
    "A related question is: which combinations of masses will provide the most information about a given parameter?  We can obtain a qualitative estimate of this by looking at the diagonal entries.  *(The maximum $\\sqrt{F}$ is shown in the title of each plot with larger values indicating more information.)*"
   ]
  },
  {
   "cell_type": "code",
   "execution_count": null,
   "metadata": {},
   "outputs": [],
   "source": [
    "masses = data.M\n",
    "params = data.params\n",
    "Np = len(params)\n",
    "F = data.dataset.F\n",
    "\n",
    "gs = GridSpec(3, 6)\n",
    "plt.figure(figsize=(15, 8))\n",
    "z_max = [np.sqrt(F.data[:,:,n,n]).max() for n in range(Np)]\n",
    "inds = reversed(np.argsort(z_max))\n",
    "for _n, n in enumerate(inds):\n",
    "    ax = plt.subplot(gs[_n])\n",
    "    z = np.sqrt(F.data[:,:,n,n].T)\n",
    "    plt.pcolormesh(masses, masses, z)\n",
    "    plt.title(\"{} ({})\".format(params[n], int(z.max())))\n",
    "    \n",
    "    ax.set_aspect(1)\n",
    "    \n",
    "plt.tight_layout()"
   ]
  }
 ],
 "metadata": {
  "celltoolbar": "Initialization Cell",
  "kernelspec": {
   "display_name": "Python [conda env:work3]",
   "language": "python",
   "name": "conda-env-work3-py"
  },
  "language_info": {
   "codemirror_mode": {
    "name": "ipython",
    "version": 3
   },
   "file_extension": ".py",
   "mimetype": "text/x-python",
   "name": "python",
   "nbconvert_exporter": "python",
   "pygments_lexer": "ipython3",
   "version": "3.5.4"
  },
  "toc": {
   "nav_menu": {},
   "number_sections": true,
   "sideBar": true,
   "skip_h1_title": false,
   "toc_cell": false,
   "toc_position": {
    "height": "817px",
    "left": "0px",
    "right": "1189px",
    "top": "111px",
    "width": "264px"
   },
   "toc_section_display": "block",
   "toc_window_display": true
  }
 },
 "nbformat": 4,
 "nbformat_minor": 2
}
