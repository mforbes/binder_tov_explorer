{
 "cells": [
  {
   "cell_type": "code",
   "execution_count": 4,
   "metadata": {
    "init_cell": true
   },
   "outputs": [
    {
     "data": {
      "text/html": [
       "<style>.grade {\n",
       "   background-color: #66FFCC;\n",
       "}\n",
       "</style>"
      ],
      "text/plain": [
       "<IPython.core.display.HTML object>"
      ]
     },
     "metadata": {},
     "output_type": "display_data"
    },
    {
     "data": {
      "application/javascript": [],
      "text/plain": [
       "<IPython.core.display.Javascript object>"
      ]
     },
     "metadata": {},
     "output_type": "display_data"
    },
    {
     "data": {
      "text/html": [
       "<script id=\"MathJax-Element-48\" type=\"math/tex\">\\newcommand{\\vect}[1]{\\mathbf{#1}}\n",
       "\\newcommand{\\uvect}[1]{\\hat{#1}}\n",
       "\\newcommand{\\abs}[1]{\\lvert#1\\rvert}\n",
       "\\newcommand{\\norm}[1]{\\lVert#1\\rVert}\n",
       "\\newcommand{\\I}{\\mathrm{i}}\n",
       "\\newcommand{\\ket}[1]{\\left|#1\\right\\rangle}\n",
       "\\newcommand{\\bra}[1]{\\left\\langle#1\\right|}\n",
       "\\newcommand{\\braket}[1]{\\langle#1\\rangle}\n",
       "\\newcommand{\\Braket}[1]{\\left\\langle#1\\right\\rangle}\n",
       "\\newcommand{\\op}[1]{\\mathbf{#1}}\n",
       "\\newcommand{\\mat}[1]{\\mathbf{#1}}\n",
       "\\newcommand{\\d}{\\mathrm{d}}\n",
       "\\newcommand{\\pdiff}[3][]{\\frac{\\partial^{#1} #2}{\\partial {#3}^{#1}}}\n",
       "\\newcommand{\\diff}[3][]{\\frac{\\d^{#1} #2}{\\d {#3}^{#1}}}\n",
       "\\newcommand{\\ddiff}[3][]{\\frac{\\delta^{#1} #2}{\\delta {#3}^{#1}}}\n",
       "\\newcommand{\\floor}[1]{\\left\\lfloor#1\\right\\rfloor}\n",
       "\\newcommand{\\ceil}[1]{\\left\\lceil#1\\right\\rceil}\n",
       "\\DeclareMathOperator{\\Tr}{Tr}\n",
       "\\DeclareMathOperator{\\erf}{erf}\n",
       "\\DeclareMathOperator{\\erfi}{erfi}\n",
       "\\DeclareMathOperator{\\sech}{sech}\n",
       "\\DeclareMathOperator{\\sgn}{sgn}\n",
       "\\DeclareMathOperator{\\order}{O}\n",
       "\\DeclareMathOperator{\\diag}{diag}\n",
       "\n",
       "\\newcommand{\\mylabel}[1]{\\label{#1}\\tag{#1}}\n",
       "\\newcommand{\\degree}{\\circ}</script>"
      ],
      "text/plain": [
       "<IPython.core.display.HTML object>"
      ]
     },
     "metadata": {},
     "output_type": "display_data"
    },
    {
     "data": {
      "text/html": [],
      "text/plain": [
       "<IPython.core.display.HTML object>"
      ]
     },
     "metadata": {},
     "output_type": "display_data"
    },
    {
     "data": {
      "text/html": [
       "\n",
       "<i>\n",
       "<p>This cell contains some definitions for equations and some CSS for styling\n",
       "  the notebook. If things look a bit strange, please try the following:\n",
       "<ul>\n",
       "  <li>Choose \"Trust Notebook\" from the \"File\" menu.</li>\n",
       "  <li>Re-execute this cell.</li>\n",
       "  <li>Reload the notebook.</li>\n",
       "</ul>\n",
       "</p>\n",
       "</i>\n"
      ],
      "text/plain": [
       "<IPython.core.display.HTML object>"
      ]
     },
     "metadata": {},
     "output_type": "display_data"
    }
   ],
   "source": [
    "import mmf_setup;mmf_setup.nbinit()"
   ]
  },
  {
   "cell_type": "markdown",
   "metadata": {},
   "source": [
    "# Overview"
   ]
  },
  {
   "cell_type": "markdown",
   "metadata": {},
   "source": [
    "Here we demonstrate how gravitational wave data from a set of observations might constrain nuclear parameters.  These results were generated as follows:\n",
    "\n",
    "1. A unified equation of state (EoS) was defined in terms of $N_p = 18$ parameters $\\vect{p}$ as follows:\n",
    "   * An outer crust is fixed by tabulated data. (No parameters.)\n",
    "   * A compressible liquid drop model (CLDM) modeling spherical nuclei embedded in a gas of neutrons and electrons. (2 parameters)\n",
    "   * A homogeneous interior with a homogeneous nuclear equation of state $\\mathcal{E}(n_n, n_p)$ in conjunction with $\\beta$-equilibrium. (13 parameters = 4 neutron matter parameters + 3 proton polaron parameters + 6 symmetric nuclear matter parameters)\n",
    "   * A core characterized by the speed of sound (3 parameters).\n",
    "2. The Tolman-Oppenheimer-Volkoff (TOV) equations were solved for non-rotating neutron stars, giving the neutron star masses $M(P_c, \\vect{p})$, radii $R(P_c, \\vect{p})$, second Love number $k_2(P_c, \\vect{p})$ as functions of the central pressure $P_c$ and the 18 parameters $\\vect{p}$.\n",
    "3. Numerical derivatives of these functions were obtained using Richardson extrapolation.  These are tabulated for a set of $N_m$ masses spanning a range of neutron stars.  These derivatives are stored in dimensionless form:\n",
    "\n",
    "   $$\n",
    "     \\frac{p_i}{M_j} \\pdiff{M_j}{p_i} = p_j \\pdiff \\ln M_j.\n",
    "   $$\n",
    "   \n",
    "4. Using a post-Newtonian analysis, these derivatives are used to obtain a set of Fisher information matrices $\\mat{F}$ corresponding to the expected aLIGO signal sensitivity for all pairs of masses $m_1$ and $m_2$.  This is summarized in a $N_m\\times N_m\\times N_p\\times N_p$ array where each entry $F[i, j,:,:]$ corresponds to the expected Fisher information matrix (FIM) obtained from the inspiral of a binary with masses $m_i$ and $m_j$ at a fiducial distance of $D_0=40$Mpc.  For an event at distance $D$, this must be weighted by a factor $(D_0/D)^2$.\n",
    "5. From this set of FIM, a collective FIM can be obtained by summing over a sample population of binaries, weighed appropriately.\n",
    "6. Nuclear uncertainties can be input directly with an information matrix:\n",
    "\n",
    "   $$\n",
    "     \\mat{F}_{\\text{nuclear}} = \\mat{C}^{-1} \n",
    "     \\approx \\diag\\left(\\frac{1}{\\sigma_{0}^{2}}, \\frac{1}{\\sigma_{1}^2}, \\cdots\\right)\n",
    "   $$\n",
    "   \n",
    "   where $\\sigma_i$ are the estimated 1-$\\sigma$ relative Gaussian errors for the $i$th parameter $p_i$.  If parameter covariances are known, they can be introduced directly into the covariance matrix $\\mat{C}$.  *(All of this analysis assumes that errors are small enough and Gaussian so that linear error analysis is a reasonable approximation.  As above, the tabulated FIM is scaled by the parameter values to be dimensionless, so the errors $\\sigma_i$ represent the relative errors in parameter.)*\n",
    "7. From this combined FIM, we perform various analyses such as a principal component analysis, looking at the largest eigenvalues and eigenvectors of $\\mat{F}$, or computing the parameter covariance matrix $\\mat{C} = \\mat{F}^{-1}$.\n",
    "\n",
    "The summary of this analysis for a sample equation of state roughly matching th$ ALF4 equation of state is presented in the following notebook:\n",
    "\n",
    "* [`ALF4.ipynb`](ALF4.ipynb)\n",
    "\n",
    "*(As additional equations of state are added, they will be analyzed in appropriately named notebooks.)*"
   ]
  },
  {
   "cell_type": "markdown",
   "metadata": {},
   "source": [
    "# Equation of State"
   ]
  },
  {
   "cell_type": "markdown",
   "metadata": {},
   "source": [
    "## Outer Crust"
   ]
  },
  {
   "cell_type": "markdown",
   "metadata": {},
   "source": [
    "The outer crust is simply tabulated from results like those of Negele and Vautherin.  There are no parameters introduced here."
   ]
  },
  {
   "cell_type": "markdown",
   "metadata": {},
   "source": [
    "## CLDM"
   ]
  },
  {
   "cell_type": "markdown",
   "metadata": {},
   "source": [
    "Once the nuclear equation of state $\\mathcal{E}(n_n, n_p)$ is specified (see below), we make a unified transition from the outer crust to homogeneous matter using a compressible liquid drop model with the following components:\n",
    "\n",
    "* A spherical nucleus in a spherical Wigner-Seitz cell.  (Energy density $\\mathcal{E}(n_n^(i), n_p^(i))$ where $n_{n,p}^{i}$ are the average densities of the protons and neutrons inside the drop.)\n",
    "* A surrounding neutron gas.  (Described by $\\mathcal{E}(n_n^{o}, 0)$ where $n_n^{o}$ is the density of the neutron gas.)\n",
    "* A homogeneous electron cloud.  (Described as a free Fermi gas, relativistic if needed, maintaining beta-equilibrium by establishing zero total charge.)\n",
    "* A surface term.\n",
    "\n",
    "The only parameters that enter this approximation are those describing the surface of the drop.   For this we use the approach of [Lattimer:1985] (also in [Steiner:2012a]) which is characterized in terms of the proton fraction $x = n_p/n_b$ and the isospin asymmetry $\\beta = (n_n - n_p)/(n_n + n_p)$:\n",
    "\n",
    "$$\n",
    "  \\sigma = \\sigma_0\\mathcal{B}(x), \\qquad\n",
    "  \\mathcal{B}(x) = \\frac{16+b}{x^{-3} + b + \\frac{1}{(1-x)^3}}, \\qquad\n",
    "  C_{\\mathrm{sym}} = \\frac{\\sigma_{\\delta}}{\\sigma_0} = \\frac{96}{b+16}.\n",
    "$$\n",
    "\n",
    "This introduces two parameters `sigma_delta`$=\\sigma_\\delta$ and `sigma_0`$=\\sigma_0$.  Note that for small asymmetries $x\\approx 1$, $\\beta \\approx 0$, we have:\n",
    "\n",
    "$$\n",
    "  \\sigma = \\sigma_0\\left(\n",
    "    1 -\n",
    "    \\frac{C_{\\mathrm{sym}}}\n",
    "         {C_{\\mathrm{sym}} - \\frac{12}{2 - \\frac{1}{(1+\\beta)^3} - \\frac{1}{(1-\\beta)^3}}}\n",
    "  \\right)\n",
    "  \\approx\n",
    "  \\sigma_0\\left(\n",
    "    1 - C_{\\mathrm{sym}}\\beta^2 + \\order(\\beta^4)\n",
    "  \\right)\n",
    "$$\n",
    "\n",
    "Thus, we see that there are two independent parameters in this expression.  We fix the parameter $\\sigma_0$ so that the CLDM matches the baryon density $n_B$ and energy-density $\\mathcal{E}(n_B)$ at the upper end of the tabulated set of outer-crust data, ensuring a smooth transition (at most, second-order).\n",
    "\n",
    "Following [Steiner:2012a], we introduce one more parameter `C_C`$=\\mathcal{C}$ which is a suppression factor in the Coulomb energy intended to model the diffuseness of the proton distribution.  Finally, one could in principle vary the dimension `d_C`$=d$ of the Wigner-Seitz cell to allow for a crude estimate of pasta.  We have tried this in some cases, but generally leave $d=3$.\n",
    "\n",
    "Once these parameters are fixed, and $\\sigma_0$ is found, we must find the transition from a droplet to homogeneous matter by finding the point where the chemical potentials and pressures are equal.  This ensures that the transition from the CLDM to homogeneous matter remains convex.  To summarize, we have the following parameters:\n",
    "\n",
    "**CLDM**\n",
    "* `C_C`: Coulomb suppression factor $\\mathcal{C}$.\n",
    "* `d_C`: Dimension $d$ of the cells.  (Generally held fixed at $d=3$.)\n",
    "* `sigma_delta`: Surface tension isospin dependence $\\sigma_\\delta$ [MeV/fm$^2$].\n",
    "\n",
    "[Lattimer:1985]: http://dx.doi.org/10.1016/0375-9474(85)90006-5 (J.M. Lattimer, C.J. Pethick, D.G. Ravenhall, and D.Q. Lamb, \"Physical properties of hot, dense matter: The general case\", Nucl. Phys. A 432(3), 646 - 742 (1985) )\n",
    "\n",
    "[Steiner:2012a]: http://dx.doi.org/10.1103/PhysRevC.85.055804 (Andrew W. Steiner, \"Deep crustal heating in a multicomponent accreted neutron star crust\", Phys. Rev. C 85, 055804 (2012) )"
   ]
  },
  {
   "cell_type": "markdown",
   "metadata": {},
   "source": [
    "## Homogeneous Matter"
   ]
  },
  {
   "cell_type": "markdown",
   "metadata": {},
   "source": [
    "As motivated by our work with fitting a nuclear energy density functional (NEDF) called SeaLL1:\n",
    "\n",
    "* [Bulgac, Forbes, Jin, Perez, and Schunck: A Minimal Nuclear Energy Density Functional (accepted for PRC)](https://arxiv.org/abs/1708.08771)\n",
    "\n",
    "we acknowledge that the connection between neutron matter and symmetric nuclear matter might be quite weak.  We thus base our parameterization of homogeneous matter on an expansion in proton fraction starting from pure neutron matter.  For pure neutron matter, we use the following energy per particle $E_n$ [MeV] as a function of neutron density $n_n$ [1/fm$^3$]:\n",
    "   \n",
    "$$\n",
    "   E_n(n_n) = \\frac{\\mathcal{E}_{n}(n_n)}{n_n} \n",
    "   = m_nc^2 + a\\left(\\frac{n_n}{\\bar{n}_0}\\right)^{\\alpha} + b\\left(\\frac{n_n}{\\bar{n}_0}\\right)^{\\beta}\n",
    "$$\n",
    "     \n",
    "where $m_n=939.565$MeV/$c^2$ is the neutron mass, $\\bar{n}_0 = 0.16$/fm$^3$ is a constant (approximately the nucleon saturation density) and $a$, $b$, $\\alpha$, and $\\beta$ are four EoS parameters `a`, `alpha`, `b`, and `beta` in the code.\n",
    "\n",
    "Adding a small proton fraction, we extend this using the following form:\n",
    "     \n",
    "\\begin{align}\n",
    "       \\text{energy-per-particle}&& E_{np}(n_n, n_p) &= (1-x_p)E_n(n_n) + x_p\\left(m_pc^2 + \\Sigma^p(n_B)\\right) \n",
    "       + \\frac{(2\\pi^2)^{2/3}}{2m^*}x_p^{5/3}n_B^{2/3} +x_p^2f_2(n_B) + x_p^3f_3(n_B)+\\cdots\\\\\n",
    "       &&n_B &= n_n + n_p, \\qquad x_p = \\frac{n_p}{n_B},&&\\\\\n",
    "       \\text{proton self-energy}&&\\Sigma^p(n_B) &= \\mu_p\\frac{n_B}{\\bar{n}_0}\\frac{2u_p-\\frac{n_B}{n_0}}{2u_p - 1}&&\n",
    "\\end{align}\n",
    "     \n",
    "where $m_p = 938.272$MeV/$c^2$ is the bare proton mass, and $m^*$ is the effective proton mass.  The properties of the proton polaron are characterized by the parameters $\\mu_p$ [MeV], the proton chemical potential at $n_B = \\bar{n}_0$ and $u_p$ which specifies at which $n_B = u_p\\bar{n}_0$ the proton self-energy $\\Sigma^p(n_B)$ reaches its minimum value as shown below:"
   ]
  },
  {
   "cell_type": "code",
   "execution_count": 5,
   "metadata": {},
   "outputs": [
    {
     "name": "stdout",
     "output_type": "stream",
     "text": [
      "Populating the interactive namespace from numpy and matplotlib\n"
     ]
    },
    {
     "data": {
      "text/plain": [
       "Text(0.5,1,'Demonstration of the parametrization of $\\\\Sigma^p(n_B)$')"
      ]
     },
     "execution_count": 5,
     "metadata": {},
     "output_type": "execute_result"
    },
    {
     "data": {
      "image/png": "[encoded data removed]",
      "text/plain": [
       "<Figure size 576x360 with 1 Axes>"
      ]
     },
     "metadata": {},
     "output_type": "display_data"
    }
   ],
   "source": [
    "%pylab inline --no-import-all\n",
    "import constants as u\n",
    "n_0 = 0.16/u.fm**3\n",
    "mu_p = -104.5*u.MeV\n",
    "u_p = 3.136\n",
    "n_B = np.linspace(0, (u_p+1)*n_0)\n",
    "Sigma_p = mu_p*n_B/n_0*(2*u_p - n_B/n_0)/(2*u_p-1)\n",
    "plt.figure(figsize=(8,5))\n",
    "plt.plot(n_B, Sigma_p)\n",
    "plt.grid(True)\n",
    "plt.xticks([0, n_0, u_p*n_0], ['0', r'$\\bar{n}_0$', r'$u_p\\bar{n}_0$'])\n",
    "plt.yticks([0, mu_p], ['0', r'$\\mu_p$'])\n",
    "plt.xlabel(r'$n_B$')\n",
    "plt.ylabel(r'$\\Sigma^p(n_B)$')\n",
    "plt.title(\"Demonstration of the parametrization of $\\Sigma^p(n_B)$\")"
   ]
  },
  {
   "cell_type": "markdown",
   "metadata": {},
   "source": [
    "The expansion above depends on the functions $f_2(n_B)$, $f_3(n_B)$ etc. which we fix by matching the energy-per-particle of symmetric nuclear matter:\n",
    "\n",
    "$$\n",
    "  E_{np}(n_n, n_p) = \\varepsilon_0 + \\frac{K_0}{2}(\\delta\\rho)^2 \n",
    "  + \\left((S_2 + L_2(\\delta\\rho) + \\frac{K_2}{2}(\\delta\\rho)^2\\right)\\delta^2\\\\\n",
    "  \\delta = \\frac{n_n-n_p}{n_B}, \\qquad\n",
    "  \\delta\\rho = \\frac{n_B - n_0}{3n_0}.\n",
    "$$\n",
    "\n",
    "This introduces the following nuclear parameters: the saturation density $n_0$ [$1/$fm$^{3}$], the saturation energy-per-particle $\\varepsilon_0$ [MeV], the symmetric incompressibility $K_0$ [MeV], and the following symmetry parameters at second order in the iso-spin asymmetry $\\delta$: the symmetry energy $S_2$ [MeV], its slope $L_2$ [MeV] and its incompressibility $K_2$ [MeV].  Demanding that $E_{np}(n_n, n_p)$ match this expression order-by-order in the powers of $x_p$ up to order $x_p^5$ fixes the functions $f_2(n_B)$ through $f_5(n_B)$, completing the definition of the homogeneous equation of state.  To summarize, we have the following parameters:\n",
    "\n",
    "**Nuclear Matter near Saturation**\n",
    "* `n_0`: Saturation density $n_0$ [$1/$fm$^3$].\n",
    "* `e_0`: Saturation energy density $\\varepsilon_0$ [MeV].\n",
    "* `K_0`: Symmetric incompressibility $K_0$ [MeV].\n",
    "* `S_2`: Second-order symmetry energy $S_2$ [MeV].\n",
    "* `L_2`: Second-order slope of the symmetry energy $L_2$ [MeV].\n",
    "* `K_2`: Second-order incompressibility $K_2$ [MeV].\n",
    "\n",
    "**Pure Neutron Matter**\n",
    "* `a`: Coefficient $a$ [MeV] of the low-density polytrope.\n",
    "* `alpha`: Power $\\alpha$ of the low-density polytrope.\n",
    "* `b`: Coefficient $b$ [MeV] of the high-density polytrope.\n",
    "* `beta`: Power $\\beta$ of the high-density polytrope.\n",
    "\n",
    "**Proton Polaron**\n",
    "* `mu_p0`: Proton chemical potential at the saturation density $\\mu_p(\\bar{n}_0)$ [MeV].\n",
    "* `u_p`: Location $u_p\\bar{n}_0$ of the minimum of the polaron dispersion.\n",
    "* `m_eff_m_p`: Effective mass `m_p^*/m_p` of the proton in the polaron dispersion.\n",
    "\n",
    "From these and the energy-density of a free lepton gas, we compute the equation of state by enforcing $\\beta$-equilibrium through the condition of bulk charge neutrality and chemical equilibrium."
   ]
  },
  {
   "cell_type": "markdown",
   "metadata": {},
   "source": [
    "## Core"
   ]
  },
  {
   "cell_type": "markdown",
   "metadata": {},
   "source": [
    "Finally, we require a parametrization of the inner core, which we characterize by the behaviour of the square of the speed-of-sound $C = c_s^2/c^2$.  We parametrize this as a polynomial starting at an energy density $\\mathcal{E}_c$ up to a transition energy-density $\\mathcal{E}_t$ as a function of the energy density $\\mathcal{E} = n_BE_{np}(n_B)$.  Above $\\mathcal{E}_t$ we simply adopt the asymptotic form $C_0 = 1/3$ predicted by quark matter.\n",
    "\n",
    "In our code we specify that the polynomial form for $\\mathcal{E}_c \\leq \\mathcal{E}\\leq \\mathcal{E}_t$ satisfy:\n",
    "\n",
    "1. $C(\\mathcal{E})$ is quadratic.\n",
    "2. $C(\\mathcal{E}_c) = C_c$ where $C_c$ is determined from the homogeneous equation of state.\n",
    "3. $C(\\mathcal{E}_\\max) = C_\\max$ is the maximum of the polynomial.  The two parameters $\\mathcal{E}_\\max$ and $C_\\max$ are free.\n",
    "\n",
    "These uniquely fix the equation of state of the core in terms of the following parameters:\n",
    "\n",
    "**Core**\n",
    "* `E_c`: Transition energy-density $\\mathcal{E}_c$ [MeV/fm$^3$] at which we transition from the homogeneous equation of state to the core.\n",
    "* `C_max`: Maximum value $C_\\max$.\n",
    "* `E_max`: Energy-density $\\mathcal{E}_\\max$ [MeV/fm$^3$] at which the polynomial obtains its maximum value."
   ]
  }
 ],
 "metadata": {
  "celltoolbar": "Initialization Cell",
  "kernelspec": {
   "display_name": "Python 2 (Ubuntu, plain)",
   "language": "python",
   "name": "python2-ubuntu"
  },
  "language_info": {
   "codemirror_mode": {
    "name": "ipython",
    "version": 2
   },
   "file_extension": ".py",
   "mimetype": "text/x-python",
   "name": "python",
   "nbconvert_exporter": "python",
   "pygments_lexer": "ipython2",
   "version": "2.7.13"
  },
  "toc": {
   "nav_menu": {},
   "number_sections": true,
   "sideBar": true,
   "skip_h1_title": false,
   "toc_cell": false,
   "toc_position": {
    "height": "817px",
    "left": "0px",
    "right": "1651px",
    "top": "111px",
    "width": "252px"
   },
   "toc_section_display": "block",
   "toc_window_display": true
  }
 },
 "nbformat": 4,
 "nbformat_minor": 2
}
